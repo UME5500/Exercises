{
 "cells": [
  {
   "cell_type": "code",
   "execution_count": 1,
   "metadata": {
    "collapsed": false
   },
   "outputs": [
    {
     "name": "stdout",
     "output_type": "stream",
     "text": [
      "Populating the interactive namespace from numpy and matplotlib\n"
     ]
    }
   ],
   "source": [
    "%pylab inline\n",
    "import sympy as sp\n",
    "sp.init_printing()"
   ]
  },
  {
   "cell_type": "markdown",
   "metadata": {},
   "source": [
    "# Sadd, Exercise 1.1"
   ]
  },
  {
   "cell_type": "markdown",
   "metadata": {},
   "source": [
    "For the given matrix/vector pairs, compute the following quantities:\n",
    "\n",
    "- $a_{ii}$\n",
    "- $a_{ij}a_{ij}$\n",
    "- $a_{ij}a_{jk}$\n",
    "- $a_{ij}b_{j}$\n",
    "- $a_{ij}b_{i}b_{j}$\n",
    "- $b_{i}b_{j}$\n",
    "- $b_{i}b_{i}$\n",
    "\n",
    "For each case, point out whether the result is a scalar, vector, or matrix.\n",
    "\n",
    "a) $a_{ij} = \\begin{bmatrix} 1 & 1 & 1 \\\\ 0 & 4 & 2 \\\\ 0 & 1 & 1 \\end{bmatrix}$,\n",
    "   $b_{i} = \\begin{Bmatrix} 1 \\\\ 0 \\\\ 2 \\end{Bmatrix}$\n",
    "   \n",
    "b) $a_{ij} = \\begin{bmatrix} 1 & 2 & 0 \\\\ 0 & 2 & 1 \\\\ 0 & 4 & 2 \\end{bmatrix}$,\n",
    "   $b_{i} = \\begin{Bmatrix} 2 \\\\ 1 \\\\ 1 \\end{Bmatrix}$\n",
    "\n",
    "c) $a_{ij} = \\begin{bmatrix} 1 & 1 & 1 \\\\ 1 & 0 & 2 \\\\ 0 & 1 & 4 \\end{bmatrix}$,\n",
    "   $b_{i} = \\begin{Bmatrix} 1 \\\\ 1 \\\\ 0 \\end{Bmatrix}$"
   ]
  },
  {
   "cell_type": "markdown",
   "metadata": {},
   "source": [
    "## Solution"
   ]
  },
  {
   "cell_type": "markdown",
   "metadata": {},
   "source": [
    "In the following, I define functions for computing matrix operations.  Optimized versions of each one of these functions are available through numpy/scipy but I define them to show the explicit implementation the sums represented by the index notation."
   ]
  },
  {
   "cell_type": "code",
   "execution_count": 2,
   "metadata": {
    "collapsed": true
   },
   "outputs": [],
   "source": [
    "a, b = {}, {}\n",
    "a['a'], b['a'] = array([[1, 1, 1], [0, 4, 2], [0, 1, 1]]), array([1, 0, 2])\n",
    "a['b'], b['b'] = (array([[1, 2, 0], [0, 2, 1], [0, 4, 2]]), array([2, 1, 1]))\n",
    "a['c'], b['c'] = array([[1, 1, 1], [1, 0, 2], [0, 1, 4]]), array([1, 1, 0])"
   ]
  },
  {
   "cell_type": "markdown",
   "metadata": {},
   "source": [
    "- $a_{ii} = \\sum_{i=1}^n a_{ii} = a_{11} + a_{22} + \\cdots + a_{nn} = tr(\\boldsymbol{A})$ is a scalar"
   ]
  },
  {
   "cell_type": "code",
   "execution_count": 23,
   "metadata": {
    "collapsed": true
   },
   "outputs": [],
   "source": [
    "def tr(a):\n",
    "    \"\"\"Compute the trace of a matrix a\"\"\"\n",
    "    x = 0\n",
    "    for i in range(a.shape[0]):\n",
    "        x += a[i,i]\n",
    "    return x"
   ]
  },
  {
   "cell_type": "code",
   "execution_count": 24,
   "metadata": {
    "collapsed": false
   },
   "outputs": [
    {
     "data": {
      "text/plain": [
       "(6, 5, 5)"
      ]
     },
     "execution_count": 24,
     "metadata": {},
     "output_type": "execute_result"
    }
   ],
   "source": [
    "a1 = tr(a['a'])\n",
    "b1 = tr(a['b'])\n",
    "c1 = tr(a['c'])\n",
    "a1, b1, c1"
   ]
  },
  {
   "cell_type": "markdown",
   "metadata": {},
   "source": [
    "- $\n",
    "a_{ij}a_{ij} = \\sum_{i=1}^m \\sum_{j=1}^n = a_{11}a_{11} + a_{12}a_{12} + \\cdots a_{mn} a_{mn} = \\boldsymbol{A}:\\boldsymbol{A}\n",
    "$\n",
    "is a scalar"
   ]
  },
  {
   "cell_type": "code",
   "execution_count": 25,
   "metadata": {
    "collapsed": true
   },
   "outputs": [],
   "source": [
    "def double_dot(a, b):\n",
    "    \"\"\"Compute the double dot product of a and b\"\"\"\n",
    "    x = 0\n",
    "    for i in range(a.shape[0]):\n",
    "        for j in range(b.shape[1]):\n",
    "            x += a[i,j] * b[i,j]\n",
    "    return x"
   ]
  },
  {
   "cell_type": "code",
   "execution_count": 26,
   "metadata": {
    "collapsed": false
   },
   "outputs": [
    {
     "data": {
      "text/plain": [
       "(25, 30, 25)"
      ]
     },
     "execution_count": 26,
     "metadata": {},
     "output_type": "execute_result"
    }
   ],
   "source": [
    "a2 = double_dot(a['a'], a['a'])\n",
    "b2 = double_dot(a['b'], a['b'])\n",
    "c2 = double_dot(a['c'], a['c'])\n",
    "a2, b2, c2"
   ]
  },
  {
   "cell_type": "markdown",
   "metadata": {},
   "source": [
    "- $a_{ij}a_{jk} = \\sum_{j=1}^m a_{ij} a_{jk} = \\boldsymbol{A}\\cdot\\boldsymbol{A}$ is a matrix"
   ]
  },
  {
   "cell_type": "code",
   "execution_count": 27,
   "metadata": {
    "collapsed": true
   },
   "outputs": [],
   "source": [
    "def vecdot(a, b):\n",
    "    \"\"\"Compute the dot product of two vectors\"\"\"\n",
    "    x = 0\n",
    "    for i in range(a.shape[0]):\n",
    "        x += a[i] * b[i]\n",
    "    return x\n",
    "\n",
    "def matmul(a, b):\n",
    "    \"\"\"Compute x = a.b\"\"\"\n",
    "    assert a.shape[1] == b.shape[0]\n",
    "    x = zeros((a.shape[0], b.shape[1]))\n",
    "    for i in range(a.shape[0]):\n",
    "        for k in range(b.shape[1]):\n",
    "            x[i,k] = vecdot(a[i,:], b[:,k])\n",
    "    return x"
   ]
  },
  {
   "cell_type": "code",
   "execution_count": 28,
   "metadata": {
    "collapsed": false
   },
   "outputs": [
    {
     "data": {
      "text/plain": [
       "(array([[  1.,   6.,   4.],\n",
       "        [  0.,  18.,  10.],\n",
       "        [  0.,   5.,   3.]]), array([[  1.,   6.,   2.],\n",
       "        [  0.,   8.,   4.],\n",
       "        [  0.,  16.,   8.]]), array([[  2.,   2.,   7.],\n",
       "        [  1.,   3.,   9.],\n",
       "        [  1.,   4.,  18.]]))"
      ]
     },
     "execution_count": 28,
     "metadata": {},
     "output_type": "execute_result"
    }
   ],
   "source": [
    "a3 = matmul(a['a'], a['a'])\n",
    "b3 = matmul(a['b'], a['b'])\n",
    "c3 = matmul(a['c'], a['c'])\n",
    "a3, b3, c3"
   ]
  },
  {
   "cell_type": "markdown",
   "metadata": {},
   "source": [
    "- $a_{ij}b_{j} = \\sum_{j=1}^m a_{ij} b_j = \\boldsymbol{A}\\cdot\\boldsymbol{b}$ is a vector"
   ]
  },
  {
   "cell_type": "code",
   "execution_count": 33,
   "metadata": {
    "collapsed": true
   },
   "outputs": [],
   "source": [
    "def matvec(a, b):\n",
    "    \"\"\"Compute the matrix/vector product x = a.b\"\"\"\n",
    "    x = zeros(b.shape[0])\n",
    "    for i in range(a.shape[1]):\n",
    "        x[i] = vecdot(a[i,:], b)\n",
    "    return x"
   ]
  },
  {
   "cell_type": "code",
   "execution_count": 34,
   "metadata": {
    "collapsed": false
   },
   "outputs": [
    {
     "data": {
      "text/plain": [
       "(array([ 3.,  4.,  2.]), array([ 4.,  3.,  6.]), array([ 2.,  1.,  1.]))"
      ]
     },
     "execution_count": 34,
     "metadata": {},
     "output_type": "execute_result"
    }
   ],
   "source": [
    "a4 = matvec(a['a'], b['a'])\n",
    "b4 = matvec(a['b'], b['b'])\n",
    "c4 = matvec(a['c'], b['c'])\n",
    "a4, b4, c4"
   ]
  },
  {
   "cell_type": "markdown",
   "metadata": {},
   "source": [
    "- $a_{ij}b_{i}b_{j} = \\sum_{i=1}^m \\sum_{j=1}^n a_{11}b_1b_1 + a_{12} b_1 b_2 + \\cdots + a_{mn} b_m b_n = \\boldsymbol{A}\\cdot\\boldsymbol{b}\\cdot\\boldsymbol{b}$ is a scalar"
   ]
  },
  {
   "cell_type": "code",
   "execution_count": 35,
   "metadata": {
    "collapsed": false
   },
   "outputs": [
    {
     "data": {
      "image/png": "[encoded data removed]",
      "text/latex": [
       "$$\\left ( 7.0, \\quad 17.0, \\quad 3.0\\right )$$"
      ],
      "text/plain": [
       "(7.0, 17.0, 3.0)"
      ]
     },
     "execution_count": 35,
     "metadata": {},
     "output_type": "execute_result"
    }
   ],
   "source": [
    "a5 = vecdot(matvec(a['a'], b['a']), b['a'])\n",
    "b5 = vecdot(matvec(a['b'], b['b']), b['b'])\n",
    "c5 = vecdot(matvec(a['c'], b['c']), b['c'])\n",
    "a5, b5, c5"
   ]
  },
  {
   "cell_type": "markdown",
   "metadata": {},
   "source": [
    "- $b_{i}b_{j} = B_{ij}$ is a matrix with components $b_i b_j$"
   ]
  },
  {
   "cell_type": "code",
   "execution_count": 18,
   "metadata": {
    "collapsed": true
   },
   "outputs": [],
   "source": [
    "def dyad(a, b):\n",
    "    \"\"\"Compute the dyad x, with x_ij = a_i b_j\"\"\"\n",
    "    x = zeros((a.shape[0], b.shape[0]))\n",
    "    for i in range(a.shape[0]):\n",
    "        for j in range(b.shape[0]):\n",
    "            x[i,j] = a[i] * b[j]\n",
    "    return x"
   ]
  },
  {
   "cell_type": "code",
   "execution_count": 19,
   "metadata": {
    "collapsed": false
   },
   "outputs": [
    {
     "data": {
      "text/plain": [
       "(array([[ 1.,  0.,  2.],\n",
       "        [ 0.,  0.,  0.],\n",
       "        [ 2.,  0.,  4.]]), array([[ 4.,  2.,  2.],\n",
       "        [ 2.,  1.,  1.],\n",
       "        [ 2.,  1.,  1.]]), array([[ 1.,  1.,  0.],\n",
       "        [ 1.,  1.,  0.],\n",
       "        [ 0.,  0.,  0.]]))"
      ]
     },
     "execution_count": 19,
     "metadata": {},
     "output_type": "execute_result"
    }
   ],
   "source": [
    "a6 = dyad(b['a'], b['a'])\n",
    "b6 = dyad(b['b'], b['b'])\n",
    "c6 = dyad(b['c'], b['c'])\n",
    "a6, b6, c6"
   ]
  },
  {
   "cell_type": "markdown",
   "metadata": {},
   "source": [
    "- $b_{i}b_{i} = \\sum_{i=1}^n b_i b_i = b_1 b_1 + b_2 b_2 + \\cdots + b_n b_n = \\boldsymbol{b}\\cdot\\boldsymbol{b}$ is a scalar"
   ]
  },
  {
   "cell_type": "code",
   "execution_count": 37,
   "metadata": {
    "collapsed": false
   },
   "outputs": [
    {
     "data": {
      "text/plain": [
       "(5, 6, 2)"
      ]
     },
     "execution_count": 37,
     "metadata": {},
     "output_type": "execute_result"
    }
   ],
   "source": [
    "a7 = vecdot(b['a'], b['a'])\n",
    "b7 = vecdot(b['b'], b['b'])\n",
    "c7 = vecdot(b['c'], b['c'])\n",
    "a7, b7, c7"
   ]
  }
 ],
 "metadata": {
  "anaconda-cloud": {},
  "kernelspec": {
   "display_name": "Python [default]",
   "language": "python",
   "name": "python3"
  },
  "language_info": {
   "codemirror_mode": {
    "name": "ipython",
    "version": 3
   },
   "file_extension": ".py",
   "mimetype": "text/x-python",
   "name": "python",
   "nbconvert_exporter": "python",
   "pygments_lexer": "ipython3",
   "version": "3.5.2"
  }
 },
 "nbformat": 4,
 "nbformat_minor": 1
}
