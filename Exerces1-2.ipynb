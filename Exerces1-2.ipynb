{
 "cells": [
  {
   "cell_type": "code",
   "execution_count": 4,
   "metadata": {
    "collapsed": false
   },
   "outputs": [
    {
     "name": "stdout",
     "output_type": "stream",
     "text": [
      "Populating the interactive namespace from numpy and matplotlib\n"
     ]
    }
   ],
   "source": [
    "%pylab inline\n",
    "import sympy as sp\n",
    "sp.init_printing()"
   ]
  },
  {
   "cell_type": "markdown",
   "metadata": {},
   "source": [
    "# Sadd, Exercise 1.2"
   ]
  },
  {
   "cell_type": "markdown",
   "metadata": {},
   "source": [
    "Using the decomposition result (Eq 1.2.10) to express $a_{ij}$ from Exercise 1-1 in terms of the sum of symmetric and antisymmetric matrices, verify that $a_{(ij)}$ and $a_{[ij]}$ satisfy the conditions given in the last paragraph of Section 1.2."
   ]
  },
  {
   "cell_type": "markdown",
   "metadata": {},
   "source": [
    "## Solution"
   ]
  },
  {
   "cell_type": "code",
   "execution_count": 1,
   "metadata": {
    "collapsed": true
   },
   "outputs": [],
   "source": [
    "def sym_part(a):\n",
    "    \"\"\"Compute the symmetric part of matrix a\"\"\"\n",
    "    return .5 * (a + a.T)\n",
    "\n",
    "def skew_part(a):\n",
    "    \"\"\"Compute the skew symmetric part of matrix a\"\"\"\n",
    "    return .5 * (a - a.T)"
   ]
  },
  {
   "cell_type": "markdown",
   "metadata": {},
   "source": [
    "### Part a"
   ]
  },
  {
   "cell_type": "code",
   "execution_count": 7,
   "metadata": {
    "collapsed": false
   },
   "outputs": [],
   "source": [
    "a = array([[1, 1, 1], [0, 4, 2], [0, 1, 1]])\n",
    "a_sym, a_skew = sym_part(a), skew_part(a)\n",
    "\n",
    "assert allclose(a_sym + a_skew, a)\n",
    "assert trace(a) == trace(a_sym)\n",
    "assert trace(a_skew) == 0.\n",
    "\n",
    "# check all diagonals are zero\n",
    "assert allclose(a_skew[[[0,1,2],[0,1,2]]], 0.)"
   ]
  },
  {
   "cell_type": "markdown",
   "metadata": {},
   "source": [
    "### Part b"
   ]
  },
  {
   "cell_type": "code",
   "execution_count": 10,
   "metadata": {
    "collapsed": false
   },
   "outputs": [],
   "source": [
    "a = array([[1, 2, 0], [0, 2, 1], [0, 4, 2]])\n",
    "a_sym, a_skew = sym_part(a), skew_part(a)\n",
    "\n",
    "assert allclose(a_sym + a_skew, a)\n",
    "assert trace(a) == trace(a_sym)\n",
    "assert trace(a_skew) == 0.\n",
    "\n",
    "# check all diagonals are zero\n",
    "assert allclose(a_skew[[[0,1,2],[0,1,2]]], 0.)"
   ]
  },
  {
   "cell_type": "markdown",
   "metadata": {},
   "source": [
    "### Part c"
   ]
  },
  {
   "cell_type": "code",
   "execution_count": 8,
   "metadata": {
    "collapsed": false
   },
   "outputs": [],
   "source": [
    "a = array([[1, 1, 1], [1, 0, 2], [0, 1, 4]])\n",
    "a_sym, a_skew = sym_part(a), skew_part(a)\n",
    "\n",
    "assert allclose(a_sym + a_skew, a)\n",
    "assert trace(a) == trace(a_sym)\n",
    "assert trace(a_skew) == 0.\n",
    "\n",
    "# check all diagonals are zero\n",
    "assert allclose(a_skew[[[0,1,2],[0,1,2]]], 0.)"
   ]
  }
 ],
 "metadata": {
  "anaconda-cloud": {},
  "kernelspec": {
   "display_name": "Python [default]",
   "language": "python",
   "name": "python3"
  },
  "language_info": {
   "codemirror_mode": {
    "name": "ipython",
    "version": 3
   },
   "file_extension": ".py",
   "mimetype": "text/x-python",
   "name": "python",
   "nbconvert_exporter": "python",
   "pygments_lexer": "ipython3",
   "version": "3.5.2"
  }
 },
 "nbformat": 4,
 "nbformat_minor": 1
}
