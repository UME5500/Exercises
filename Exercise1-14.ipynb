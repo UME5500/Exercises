{
 "cells": [
  {
   "cell_type": "code",
   "execution_count": 1,
   "metadata": {
    "collapsed": false
   },
   "outputs": [
    {
     "name": "stdout",
     "output_type": "stream",
     "text": [
      "Populating the interactive namespace from numpy and matplotlib\n"
     ]
    }
   ],
   "source": [
    "%pylab inline\n",
    "from IPython.display import display, Math\n",
    "from sympy import symbols, init_printing, Matrix, diff, latex\n",
    "init_printing()"
   ]
  },
  {
   "cell_type": "markdown",
   "metadata": {},
   "source": [
    "## Define functions for computing `div`, `curl`, `grad`, and `tr`"
   ]
  },
  {
   "cell_type": "code",
   "execution_count": 2,
   "metadata": {
    "collapsed": false
   },
   "outputs": [],
   "source": [
    "def apply(f, x):\n",
    "    \"\"\"Apply a function f to x\"\"\"\n",
    "    return f(x)\n",
    "\n",
    "def nabla(x):\n",
    "    \"\"\"Returns the vector of partial derivative operators, i.e.,\n",
    "                    d\n",
    "        Del[i] =  -----\n",
    "                  dx[i]\n",
    "    \n",
    "    \"\"\"\n",
    "    return [lambda f, _=x[i]: diff(f, _) for i in range(len(x))]\n",
    "    \n",
    "def div(u, x):\n",
    "    \"\"\"Divergence of vector u with respect to x\"\"\"\n",
    "    assert len(u) == len(x)\n",
    "    Del = nabla(x)\n",
    "    return sum([apply(Del[i], u[i]) for i in range(len(x))])\n",
    "\n",
    "def curl(u, x):\n",
    "    \"\"\"Curl of vector u with respect to x\"\"\"\n",
    "    assert len(u) == len(x) == 3\n",
    "    Del = nabla(x)\n",
    "    c = [apply(Del[1], u[2]) - apply(Del[2], u[1]),\n",
    "         apply(Del[2], u[0]) - apply(Del[0], u[2]),\n",
    "         apply(Del[0], u[1]) - apply(Del[1], u[0])]\n",
    "    return c\n",
    "\n",
    "def grad(u, x):\n",
    "    assert len(u) == len(x) == 3\n",
    "    Del = nabla(x)\n",
    "    G = Matrix(3, 3, [apply(Del[i], u[j]) for j in range(3) for i in range(3)])\n",
    "    return G\n",
    "\n",
    "def laplacian(u, x):\n",
    "    assert len(u) == len(x) == 3\n",
    "    G = grad(u, x)\n",
    "    return [div(G[i,:], x) for i in range(3)]\n",
    "\n",
    "def tr(A):\n",
    "    return sum(A[i,i] for i in range(3))\n",
    "\n",
    "def compute_and_display_parts(u, x):\n",
    "    def t_display(head, obj):\n",
    "        display(Math('%s = %s' % (head, latex(obj))))\n",
    "    t_display('\\\\nabla \\\\cdot \\\\boldsymbol{u}', div(u, [x1, x2, x3]))\n",
    "    t_display('\\\\nabla \\\\times \\\\boldsymbol{u}', curl(u, [x1, x2, x3]))\n",
    "    t_display('\\\\nabla^2 \\\\boldsymbol{u}', laplacian(u, [x1, x2, x3]))\n",
    "    t_display('\\\\nabla \\\\boldsymbol{u}', grad(u, [x1, x2, x3]))\n",
    "    t_display('tr\\\\left(\\\\nabla \\\\boldsymbol{u}\\\\right)', tr(grad(u, [x1, x2, x3])))"
   ]
  },
  {
   "cell_type": "markdown",
   "metadata": {},
   "source": [
    "## Part A"
   ]
  },
  {
   "cell_type": "markdown",
   "metadata": {},
   "source": [
    "$\\boldsymbol{u} = \\left[ x_1,\\ x_1 x_2,\\ 2x_1 x_2 x_3 \\right]$"
   ]
  },
  {
   "cell_type": "code",
   "execution_count": 3,
   "metadata": {
    "collapsed": false
   },
   "outputs": [
    {
     "data": {
      "text/latex": [
       "$$\\nabla \\cdot \\boldsymbol{u} = 2 x_{1} x_{2} + x_{1} + 1$$"
      ],
      "text/plain": [
       "<IPython.core.display.Math object>"
      ]
     },
     "metadata": {},
     "output_type": "display_data"
    },
    {
     "data": {
      "text/latex": [
       "$$\\nabla \\times \\boldsymbol{u} = \\left [ 2 x_{1} x_{3}, \\quad - 2 x_{2} x_{3}, \\quad x_{2}\\right ]$$"
      ],
      "text/plain": [
       "<IPython.core.display.Math object>"
      ]
     },
     "metadata": {},
     "output_type": "display_data"
    },
    {
     "data": {
      "text/latex": [
       "$$\\nabla^2 \\boldsymbol{u} = \\left [ 0, \\quad 0, \\quad 0\\right ]$$"
      ],
      "text/plain": [
       "<IPython.core.display.Math object>"
      ]
     },
     "metadata": {},
     "output_type": "display_data"
    },
    {
     "data": {
      "text/latex": [
       "$$\\nabla \\boldsymbol{u} = \\left[\\begin{matrix}1 & 0 & 0\\\\x_{2} & x_{1} & 0\\\\2 x_{2} x_{3} & 2 x_{1} x_{3} & 2 x_{1} x_{2}\\end{matrix}\\right]$$"
      ],
      "text/plain": [
       "<IPython.core.display.Math object>"
      ]
     },
     "metadata": {},
     "output_type": "display_data"
    },
    {
     "data": {
      "text/latex": [
       "$$tr\\left(\\nabla \\boldsymbol{u}\\right) = 2 x_{1} x_{2} + x_{1} + 1$$"
      ],
      "text/plain": [
       "<IPython.core.display.Math object>"
      ]
     },
     "metadata": {},
     "output_type": "display_data"
    }
   ],
   "source": [
    "x1, x2, x3 = symbols('x1 x2 x3')\n",
    "u = [x1, x1 * x2, 2 * x1 * x2 * x3]\n",
    "compute_and_display_parts(u, [x1, x2, x3])"
   ]
  },
  {
   "cell_type": "markdown",
   "metadata": {},
   "source": [
    "## Part B"
   ]
  },
  {
   "cell_type": "code",
   "execution_count": 4,
   "metadata": {
    "collapsed": false
   },
   "outputs": [
    {
     "data": {
      "text/latex": [
       "$$\\nabla \\cdot \\boldsymbol{u} = 4 x_{1} + 3 x_{3}^{2}$$"
      ],
      "text/plain": [
       "<IPython.core.display.Math object>"
      ]
     },
     "metadata": {},
     "output_type": "display_data"
    },
    {
     "data": {
      "text/latex": [
       "$$\\nabla \\times \\boldsymbol{u} = \\left [ 0, \\quad 0, \\quad 2 x_{2}\\right ]$$"
      ],
      "text/plain": [
       "<IPython.core.display.Math object>"
      ]
     },
     "metadata": {},
     "output_type": "display_data"
    },
    {
     "data": {
      "text/latex": [
       "$$\\nabla^2 \\boldsymbol{u} = \\left [ 2, \\quad 0, \\quad 6 x_{3}\\right ]$$"
      ],
      "text/plain": [
       "<IPython.core.display.Math object>"
      ]
     },
     "metadata": {},
     "output_type": "display_data"
    },
    {
     "data": {
      "text/latex": [
       "$$\\nabla \\boldsymbol{u} = \\left[\\begin{matrix}2 x_{1} & 0 & 0\\\\2 x_{2} & 2 x_{1} & 0\\\\0 & 0 & 3 x_{3}^{2}\\end{matrix}\\right]$$"
      ],
      "text/plain": [
       "<IPython.core.display.Math object>"
      ]
     },
     "metadata": {},
     "output_type": "display_data"
    },
    {
     "data": {
      "text/latex": [
       "$$tr\\left(\\nabla \\boldsymbol{u}\\right) = 4 x_{1} + 3 x_{3}^{2}$$"
      ],
      "text/plain": [
       "<IPython.core.display.Math object>"
      ]
     },
     "metadata": {},
     "output_type": "display_data"
    }
   ],
   "source": [
    "x1, x2, x3 = symbols('x1 x2 x3')\n",
    "u = [x1 ** 2, 2 * x1 * x2, x3 ** 3]\n",
    "compute_and_display_parts(u, [x1, x2, x3])"
   ]
  },
  {
   "cell_type": "markdown",
   "metadata": {},
   "source": [
    "## Part C"
   ]
  },
  {
   "cell_type": "code",
   "execution_count": 5,
   "metadata": {
    "collapsed": false
   },
   "outputs": [
    {
     "data": {
      "text/latex": [
       "$$\\nabla \\cdot \\boldsymbol{u} = 2 x_{3}$$"
      ],
      "text/plain": [
       "<IPython.core.display.Math object>"
      ]
     },
     "metadata": {},
     "output_type": "display_data"
    },
    {
     "data": {
      "text/latex": [
       "$$\\nabla \\times \\boldsymbol{u} = \\left [ - 2 x_{2}, \\quad - 8 x_{1}, \\quad - 2 x_{2}\\right ]$$"
      ],
      "text/plain": [
       "<IPython.core.display.Math object>"
      ]
     },
     "metadata": {},
     "output_type": "display_data"
    },
    {
     "data": {
      "text/latex": [
       "$$\\nabla^2 \\boldsymbol{u} = \\left [ 2, \\quad 0, \\quad 8\\right ]$$"
      ],
      "text/plain": [
       "<IPython.core.display.Math object>"
      ]
     },
     "metadata": {},
     "output_type": "display_data"
    },
    {
     "data": {
      "text/latex": [
       "$$\\nabla \\boldsymbol{u} = \\left[\\begin{matrix}0 & 2 x_{2} & 0\\\\0 & 2 x_{3} & 2 x_{2}\\\\8 x_{1} & 0 & 0\\end{matrix}\\right]$$"
      ],
      "text/plain": [
       "<IPython.core.display.Math object>"
      ]
     },
     "metadata": {},
     "output_type": "display_data"
    },
    {
     "data": {
      "text/latex": [
       "$$tr\\left(\\nabla \\boldsymbol{u}\\right) = 2 x_{3}$$"
      ],
      "text/plain": [
       "<IPython.core.display.Math object>"
      ]
     },
     "metadata": {},
     "output_type": "display_data"
    }
   ],
   "source": [
    "x1, x2, x3 = symbols('x1 x2 x3')\n",
    "u = [x2 ** 2, 2 * x2 * x3, 4*x1 ** 2]\n",
    "compute_and_display_parts(u, [x1, x2, x3])"
   ]
  }
 ],
 "metadata": {
  "anaconda-cloud": {},
  "kernelspec": {
   "display_name": "Python [default]",
   "language": "python",
   "name": "python3"
  },
  "language_info": {
   "codemirror_mode": {
    "name": "ipython",
    "version": 3
   },
   "file_extension": ".py",
   "mimetype": "text/x-python",
   "name": "python",
   "nbconvert_exporter": "python",
   "pygments_lexer": "ipython3",
   "version": "3.5.2"
  }
 },
 "nbformat": 4,
 "nbformat_minor": 1
}
